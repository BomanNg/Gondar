{
 "cells": [
  {
   "cell_type": "markdown",
   "metadata": {},
   "source": [
    "# Initial environ"
   ]
  },
  {
   "cell_type": "code",
   "execution_count": 1,
   "metadata": {},
   "outputs": [
    {
     "data": {
      "text/plain": [
       "True"
      ]
     },
     "execution_count": 1,
     "metadata": {},
     "output_type": "execute_result"
    }
   ],
   "source": [
    "import os\n",
    "from dotenv import load_dotenv, find_dotenv\n",
    "\n",
    "load_dotenv(find_dotenv())"
   ]
  },
  {
   "cell_type": "markdown",
   "metadata": {},
   "source": [
    "# Loading data"
   ]
  },
  {
   "cell_type": "code",
   "execution_count": 2,
   "metadata": {},
   "outputs": [
    {
     "name": "stdout",
     "output_type": "stream",
     "text": [
      "Total sentences: 58591\n",
      "Average sentences of an article: 195.30333333333334\n"
     ]
    }
   ],
   "source": [
    "import pickle\n",
    "from pathlib import Path\n",
    "\n",
    "articles_cache = Path(\".local/articles.raw.pickle\")\n",
    "\n",
    "if articles_cache.exists():\n",
    "    with open(articles_cache, \"rb\") as f:\n",
    "        articles = pickle.load(f)\n",
    "\n",
    "else:\n",
    "    from gondar.tools import EntrezAPIWrapper\n",
    "    entrez = EntrezAPIWrapper(retmax=300)\n",
    "    articles = entrez.load(\"Chlamydomonas reinhardtii\")\n",
    "    with open(articles_cache, \"wb\") as f:\n",
    "        pickle.dump(articles, f)\n",
    "\n",
    "total_sentences = 0\n",
    "for i in range(len(articles)):\n",
    "    total_sentences += len(articles[i][\"body\"])\n",
    "\n",
    "print(f\"Total sentences: {total_sentences}\")\n",
    "print(f\"Average sentences of an article: {total_sentences / len(articles)}\")"
   ]
  },
  {
   "cell_type": "markdown",
   "metadata": {},
   "source": [
    "# Embedding Data"
   ]
  },
  {
   "cell_type": "code",
   "execution_count": 3,
   "metadata": {},
   "outputs": [],
   "source": [
    "def bulk_embedding(client, articles, batch_size: int = 2000):\n",
    "    embedding = []\n",
    "    \n",
    "    sentences = sum([_[\"body\"] for _ in articles], [])\n",
    "    batchs = (sentences[i:i+batch_size] for i in range(0, len(sentences), batch_size))\n",
    "    \n",
    "    for batch in batchs:\n",
    "        res = client.embeddings.create(input=batch, model=\"text-embedding-ada-002\", timeout=60)\n",
    "        print(res.usage)\n",
    "        embedding.append([_.embedding for _ in res.data])\n",
    "    \n",
    "    return embedding"
   ]
  },
  {
   "cell_type": "code",
   "execution_count": 4,
   "metadata": {},
   "outputs": [],
   "source": [
    "import numpy as np\n",
    "\n",
    "embedding_cache = Path(\".local/embedding.npy\")\n",
    "\n",
    "if embedding_cache.exists():\n",
    "    embedding = np.load(embedding_cache)\n",
    "\n",
    "else:\n",
    "    from openai import AzureOpenAI\n",
    "    client = AzureOpenAI(\n",
    "                azure_endpoint=os.environ.get(\"AZURE_OPENAI_ENDPOINT\"),\n",
    "                azure_deployment=os.environ.get(\"AZURE_EMBEDDING_DEPLOYMENT\"),\n",
    "                api_version=os.environ.get(\"AZURE_API_VERSION\"),\n",
    "                api_key=os.environ.get(\"AZURE_OPENAI_KEY\")\n",
    "            )\n",
    "\n",
    "    embedding = np.array(bulk_embedding(client, articles))\n",
    "\n",
    "    np.save(embedding_cache, embedding)"
   ]
  },
  {
   "cell_type": "markdown",
   "metadata": {},
   "source": [
    "# Generate Query Embedding"
   ]
  },
  {
   "cell_type": "code",
   "execution_count": null,
   "metadata": {},
   "outputs": [],
   "source": []
  }
 ],
 "metadata": {
  "kernelspec": {
   "display_name": "gondar",
   "language": "python",
   "name": "python3"
  },
  "language_info": {
   "codemirror_mode": {
    "name": "ipython",
    "version": 3
   },
   "file_extension": ".py",
   "mimetype": "text/x-python",
   "name": "python",
   "nbconvert_exporter": "python",
   "pygments_lexer": "ipython3",
   "version": "3.10.0"
  }
 },
 "nbformat": 4,
 "nbformat_minor": 2
}
